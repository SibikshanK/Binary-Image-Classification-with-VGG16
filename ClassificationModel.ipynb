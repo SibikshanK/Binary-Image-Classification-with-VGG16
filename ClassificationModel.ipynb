{
  "nbformat": 4,
  "nbformat_minor": 0,
  "metadata": {
    "colab": {
      "provenance": []
    },
    "kernelspec": {
      "name": "python3",
      "display_name": "Python 3"
    },
    "language_info": {
      "name": "python"
    }
  },
  "cells": [
    {
      "cell_type": "code",
      "execution_count": null,
      "metadata": {
        "id": "9PfcrBzNy0kW"
      },
      "outputs": [],
      "source": [
        "!pip install roboflow\n",
        "\n",
        "from roboflow import Roboflow\n",
        "rf = Roboflow(api_key=\"ARmXIcOvzwuMAjyDhfgt\")\n",
        "project = rf.workspace(\"intellect-design-arena\").project(\"classification-model-flash-n-f\")\n",
        "dataset = project.version(4).download(\"folder\")\n"
      ]
    },
    {
      "cell_type": "code",
      "source": [
        "import tensorflow as tf\n",
        "from tensorflow.keras.preprocessing.image import ImageDataGenerator\n",
        "from tensorflow.keras.applications import VGG16\n",
        "from tensorflow.keras.layers import Flatten, Dense, Dropout\n",
        "from tensorflow.keras.models import Model\n",
        "\n",
        "datagen = ImageDataGenerator(\n",
        "    rescale=1.0/255,\n",
        "    rotation_range=20,\n",
        "    width_shift_range=0.2,\n",
        "    height_shift_range=0.2,\n",
        "    shear_range=0.2,\n",
        "    zoom_range=0.2,\n",
        "    horizontal_flip=True,\n",
        "    validation_split=0.2\n",
        ")\n",
        "\n",
        "base_model = VGG16(weights='imagenet', include_top=False, input_shape=(224, 224, 3))\n",
        "\n",
        "for layer in base_model.layers:\n",
        "    layer.trainable = False\n",
        "\n",
        "x = Flatten()(base_model.output)\n",
        "x = Dense(256, activation='relu')(x)\n",
        "x = Dropout(0.5)(x)\n",
        "x = Dense(1, activation='sigmoid')(x)\n",
        "\n",
        "model = Model(inputs=base_model.input, outputs=x)\n",
        "\n",
        "model.compile(optimizer='adam',\n",
        "              loss='binary_crossentropy',\n",
        "              metrics=['accuracy'])\n",
        "\n",
        "train_data_dir = '/content/Classification-model-(Flash/N-F)-4/train'\n",
        "validation_data_dir = '/content/Classification-model-(Flash/N-F)-4/valid'\n",
        "\n",
        "batch_size = 32\n",
        "image_size = (224, 224)\n",
        "\n",
        "train_generator = datagen.flow_from_directory(\n",
        "    train_data_dir,\n",
        "    target_size=image_size,\n",
        "    batch_size=batch_size,\n",
        "    class_mode='binary',\n",
        "    subset='training'\n",
        ")\n",
        "\n",
        "validation_generator = datagen.flow_from_directory(\n",
        "    validation_data_dir,\n",
        "    target_size=image_size,\n",
        "    batch_size=batch_size,\n",
        "    class_mode='binary',\n",
        "    subset='validation'\n",
        ")\n",
        "\n",
        "epochs = 10\n",
        "history = model.fit(\n",
        "    train_generator,\n",
        "    steps_per_epoch=train_generator.samples // batch_size,\n",
        "    validation_data=validation_generator,\n",
        "    validation_steps=validation_generator.samples // batch_size,\n",
        "    epochs=epochs\n",
        ")\n",
        "\n",
        "model.save('flash_detection_vgg16.h5')\n"
      ],
      "metadata": {
        "colab": {
          "base_uri": "https://localhost:8080/"
        },
        "id": "fd1lf4V8y2He",
        "outputId": "256cf1a7-73b8-43a8-9913-c14c54878708"
      },
      "execution_count": null,
      "outputs": [
        {
          "output_type": "stream",
          "name": "stdout",
          "text": [
            "Downloading data from https://storage.googleapis.com/tensorflow/keras-applications/vgg16/vgg16_weights_tf_dim_ordering_tf_kernels_notop.h5\n",
            "58889256/58889256 [==============================] - 0s 0us/step\n",
            "Found 84 images belonging to 2 classes.\n",
            "Found 1 images belonging to 2 classes.\n",
            "Epoch 1/10\n",
            "2/2 [==============================] - 24s 15s/step - loss: 4.9191 - accuracy: 0.4615\n",
            "Epoch 2/10\n",
            "2/2 [==============================] - 20s 12s/step - loss: 2.1226 - accuracy: 0.5000\n",
            "Epoch 3/10\n",
            "2/2 [==============================] - 25s 12s/step - loss: 1.3549 - accuracy: 0.4219\n",
            "Epoch 4/10\n",
            "2/2 [==============================] - 24s 12s/step - loss: 1.8162 - accuracy: 0.5469\n",
            "Epoch 5/10\n",
            "2/2 [==============================] - 20s 8s/step - loss: 1.6759 - accuracy: 0.6154\n",
            "Epoch 6/10\n",
            "2/2 [==============================] - 24s 12s/step - loss: 1.6243 - accuracy: 0.4375\n",
            "Epoch 7/10\n",
            "2/2 [==============================] - 26s 13s/step - loss: 1.3689 - accuracy: 0.6719\n",
            "Epoch 8/10\n",
            "2/2 [==============================] - 25s 13s/step - loss: 1.2509 - accuracy: 0.6094\n",
            "Epoch 9/10\n",
            "2/2 [==============================] - 24s 12s/step - loss: 0.8292 - accuracy: 0.6875\n",
            "Epoch 10/10\n",
            "2/2 [==============================] - 20s 12s/step - loss: 1.1628 - accuracy: 0.5385\n"
          ]
        },
        {
          "output_type": "stream",
          "name": "stderr",
          "text": [
            "You are saving your model as an HDF5 file via `model.save()`. This file format is considered legacy. We recommend using instead the native Keras format, e.g. `model.save('my_model.keras')`.\n"
          ]
        }
      ]
    },
    {
      "cell_type": "code",
      "source": [
        "from tensorflow.keras.models import load_model\n",
        "from tensorflow.keras.preprocessing import image\n",
        "import numpy as np\n",
        "\n",
        "\n",
        "model = load_model('flash_detection_vgg16.h5')\n",
        "\n",
        "\n",
        "img_path = '/content/Classification-model-(Flash/N-F)-4/valid/Images/Img12_jpeg.rf.3e4390b424126336f82021d0cff25fb6.jpg'\n",
        "img = image.load_img(img_path, target_size=(224, 224))\n",
        "img_array = image.img_to_array(img)\n",
        "img_array = np.expand_dims(img_array, axis=0)\n",
        "\n",
        "predictions = model.predict(img_array)\n",
        "\n",
        "if predictions[0] > 0.5:\n",
        "    print(\"Normal Image\")\n",
        "else:\n",
        "    print(\"Flash Detected Image\")\n"
      ],
      "metadata": {
        "colab": {
          "base_uri": "https://localhost:8080/"
        },
        "id": "AEafN6f94YO6",
        "outputId": "56b84388-3cfa-49fb-baff-9b71cb5a265a"
      },
      "execution_count": null,
      "outputs": [
        {
          "output_type": "stream",
          "name": "stdout",
          "text": [
            "1/1 [==============================] - 0s 470ms/step\n",
            "Normal Image\n"
          ]
        }
      ]
    },
    {
      "cell_type": "code",
      "source": [],
      "metadata": {
        "id": "etdeyIeZ5acd"
      },
      "execution_count": null,
      "outputs": []
    }
  ]
}